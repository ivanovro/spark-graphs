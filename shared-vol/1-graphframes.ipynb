{
 "cells": [
  {
   "cell_type": "markdown",
   "metadata": {},
   "source": [
    "# Integrating GraphFrames package"
   ]
  },
  {
   "cell_type": "code",
   "execution_count": 1,
   "metadata": {},
   "outputs": [],
   "source": [
    "from pyspark import StorageLevel\n",
    "from pyspark.sql import functions as F, SQLContext, SparkSession, Window\n",
    "from pyspark.sql.types import *\n",
    "from random import randint\n",
    "import time\n",
    "import datetime\n",
    "\n",
    "spark = (SparkSession.builder\n",
    "         .appName(\"graphframes\")\n",
    "         .master(\"spark://spark-master:7077\")\n",
    "         .config(\"spark.sql.legacy.allowUntypedScalaUDF\", True)\n",
    "         .config(\"spark.jars.packages\", \"graphframes:graphframes:0.8.1-spark3.0-s_2.12\")\n",
    "         .enableHiveSupport()\n",
    "         .getOrCreate()\n",
    "         )"
   ]
  },
  {
   "cell_type": "code",
   "execution_count": 2,
   "metadata": {},
   "outputs": [
    {
     "data": {
      "text/plain": [
       "['/opt/workspace',\n",
       " '/tmp/spark-9dc29354-102a-4c2c-8246-be3366f9f568/userFiles-ea629c38-9f63-4d21-bcd0-67cbd4b52561/org.slf4j_slf4j-api-1.7.16.jar',\n",
       " '/tmp/spark-9dc29354-102a-4c2c-8246-be3366f9f568/userFiles-ea629c38-9f63-4d21-bcd0-67cbd4b52561/graphframes_graphframes-0.8.1-spark3.0-s_2.12.jar',\n",
       " '/tmp/spark-9dc29354-102a-4c2c-8246-be3366f9f568/userFiles-ea629c38-9f63-4d21-bcd0-67cbd4b52561',\n",
       " '/usr/lib/python37.zip',\n",
       " '/usr/lib/python3.7',\n",
       " '/usr/lib/python3.7/lib-dynload',\n",
       " '',\n",
       " '/usr/local/lib/python3.7/dist-packages',\n",
       " '/usr/lib/python3/dist-packages',\n",
       " '/usr/local/lib/python3.7/dist-packages/IPython/extensions',\n",
       " '/root/.ipython']"
      ]
     },
     "execution_count": 2,
     "metadata": {},
     "output_type": "execute_result"
    }
   ],
   "source": [
    "import sys\n",
    "sys.path"
   ]
  },
  {
   "cell_type": "code",
   "execution_count": 3,
   "metadata": {},
   "outputs": [
    {
     "data": {
      "text/plain": [
       "['Column',\n",
       " 'DataFrame',\n",
       " 'GraphFrame',\n",
       " 'Pregel',\n",
       " 'SQLContext',\n",
       " 'SparkContext',\n",
       " 'StorageLevel',\n",
       " '__builtins__',\n",
       " '__cached__',\n",
       " '__doc__',\n",
       " '__file__',\n",
       " '__loader__',\n",
       " '__name__',\n",
       " '__package__',\n",
       " '__spec__',\n",
       " '_from_java_gf',\n",
       " '_java_api',\n",
       " '_test',\n",
       " 'basestring',\n",
       " 'sys']"
      ]
     },
     "execution_count": 3,
     "metadata": {},
     "output_type": "execute_result"
    }
   ],
   "source": [
    "import graphframes\n",
    "\n",
    "dir(graphframes.graphframe)"
   ]
  },
  {
   "cell_type": "code",
   "execution_count": 4,
   "metadata": {},
   "outputs": [],
   "source": [
    "from pyspark.sql.functions import *\n",
    "\n",
    "# Create a Vertex DataFrame with unique ID column \"id\"\n",
    "v = spark.createDataFrame([\n",
    "  (\"a\", \"Alice\", 34),\n",
    "  (\"b\", \"Bob\", 36),\n",
    "  (\"c\", \"Charlie\", 30),\n",
    "], [\"id\", \"name\", \"age\"])\n",
    "# Create an Edge DataFrame with \"src\" and \"dst\" columns\n",
    "e = spark.createDataFrame([\n",
    "  (\"a\", \"b\", \"friend\"),\n",
    "  (\"b\", \"c\", \"follow\"),\n",
    "  (\"c\", \"b\", \"follow\"),\n",
    "], [\"src\", \"dst\", \"relationship\"])"
   ]
  },
  {
   "cell_type": "code",
   "execution_count": 5,
   "metadata": {},
   "outputs": [],
   "source": [
    "from graphframes import *\n",
    "g = GraphFrame(v, e)"
   ]
  },
  {
   "cell_type": "code",
   "execution_count": 6,
   "metadata": {},
   "outputs": [
    {
     "name": "stdout",
     "output_type": "stream",
     "text": [
      "+---+--------+\n",
      "| id|inDegree|\n",
      "+---+--------+\n",
      "|  c|       1|\n",
      "|  b|       2|\n",
      "+---+--------+\n",
      "\n"
     ]
    }
   ],
   "source": [
    "g.inDegrees.show()"
   ]
  },
  {
   "cell_type": "code",
   "execution_count": 7,
   "metadata": {},
   "outputs": [
    {
     "data": {
      "text/plain": [
       "2"
      ]
     },
     "execution_count": 7,
     "metadata": {},
     "output_type": "execute_result"
    }
   ],
   "source": [
    "g.edges.filter(\"relationship = 'follow'\").count()"
   ]
  },
  {
   "cell_type": "code",
   "execution_count": null,
   "metadata": {},
   "outputs": [],
   "source": [
    "results = g.pageRank(resetProbability=0.01, maxIter=20)\n",
    "results.vertices.select(\"id\", \"pagerank\").show()"
   ]
  },
  {
   "cell_type": "markdown",
   "metadata": {},
   "source": [
    "## Bike Rides"
   ]
  },
  {
   "cell_type": "code",
   "execution_count": 50,
   "metadata": {},
   "outputs": [
    {
     "name": "stdout",
     "output_type": "stream",
     "text": [
      "root\n",
      " |-- id: string (nullable = true)\n",
      " |-- name: string (nullable = true)\n",
      " |-- lat: string (nullable = true)\n",
      " |-- long: string (nullable = true)\n",
      " |-- dock_count: string (nullable = true)\n",
      " |-- city: string (nullable = true)\n",
      " |-- installation_date: string (nullable = true)\n",
      "\n",
      "root\n",
      " |-- id: string (nullable = true)\n",
      " |-- duration: string (nullable = true)\n",
      " |-- start_date: string (nullable = true)\n",
      " |-- start_station_name: string (nullable = true)\n",
      " |-- start_station_id: string (nullable = true)\n",
      " |-- end_date: string (nullable = true)\n",
      " |-- end_station_name: string (nullable = true)\n",
      " |-- end_station_id: string (nullable = true)\n",
      " |-- bike_id: string (nullable = true)\n",
      " |-- subscription_type: string (nullable = true)\n",
      " |-- zip_code: string (nullable = true)\n",
      "\n"
     ]
    }
   ],
   "source": [
    "bikeStations = spark.read.option(\"header\",True).csv(\"data/station.csv\")\n",
    "bikeStations.printSchema()\n",
    "tripData = spark.read.option(\"header\",True).csv(\"data/trip.csv\")\n",
    "tripData.printSchema()"
   ]
  },
  {
   "cell_type": "markdown",
   "metadata": {},
   "source": [
    "### Prepare Vertices"
   ]
  },
  {
   "cell_type": "code",
   "execution_count": 60,
   "metadata": {},
   "outputs": [
    {
     "name": "stdout",
     "output_type": "stream",
     "text": [
      "+---+---------------------------------+------------------+-------------------+----------+-------------+-----------------+\n",
      "|id |name                             |lat               |long               |dock_count|city         |installation_date|\n",
      "+---+---------------------------------+------------------+-------------------+----------+-------------+-----------------+\n",
      "|67 |Market at 10th                   |37.776619000000004|-122.41738500000001|27        |San Francisco|8/23/2013        |\n",
      "|10 |San Jose City Hall               |37.337391         |-121.886995        |15        |San Jose     |8/6/2013         |\n",
      "|11 |MLK Library                      |37.335885         |-121.88566000000002|19        |San Jose     |8/6/2013         |\n",
      "|34 |Palo Alto Caltrain Station       |37.443988         |-122.164759        |23        |Palo Alto    |8/14/2013        |\n",
      "|42 |Davis at Jackson                 |37.79728          |-122.398436        |15        |San Francisco|8/19/2013        |\n",
      "|32 |Castro Street and El Camino Real |37.385956         |-122.083678        |11        |Mountain View|12/31/2013       |\n",
      "|38 |Park at Olive                    |37.425683899999996|-122.13777749999998|15        |Palo Alto    |8/14/2013        |\n",
      "|64 |2nd at South Park                |37.782259         |-122.392738        |15        |San Francisco|8/22/2013        |\n",
      "|4  |Santa Clara at Almaden           |37.333988         |-121.894902        |11        |San Jose     |8/6/2013         |\n",
      "|56 |Beale at Market                  |37.792251         |-122.39708600000002|19        |San Francisco|8/20/2013        |\n",
      "|29 |San Antonio Caltrain Station     |37.406940000000006|-122.10675800000001|23        |Mountain View|8/15/2013        |\n",
      "|60 |Embarcadero at Sansome           |37.80477          |-122.40323400000001|15        |San Francisco|8/21/2013        |\n",
      "|6  |San Pedro Square                 |37.336721000000004|-121.894074        |15        |San Jose     |8/7/2013         |\n",
      "|54 |Embarcadero at Bryant            |37.787152         |-122.38801299999999|15        |San Francisco|8/20/2013        |\n",
      "|71 |Powell at Post (Union Square)    |37.788446         |-122.408499        |19        |San Francisco|8/23/2013        |\n",
      "|80 |Santa Clara County Civic Center  |37.352601         |-121.90573300000001|15        |San Jose     |12/31/2013       |\n",
      "|72 |Civic Center BART (7th at Market)|37.781039         |-122.411748        |23        |San Francisco|8/23/2013        |\n",
      "|13 |St James Park                    |37.339301         |-121.88993700000002|15        |San Jose     |8/6/2013         |\n",
      "|62 |2nd at Folsom                    |37.785299         |-122.39623600000002|19        |San Francisco|8/22/2013        |\n",
      "|39 |Powell Street BART               |37.783871000000005|-122.408433        |19        |San Francisco|8/25/2013        |\n",
      "+---+---------------------------------+------------------+-------------------+----------+-------------+-----------------+\n",
      "only showing top 20 rows\n",
      "\n"
     ]
    }
   ],
   "source": [
    "stationVertices = bikeStations.distinct()\n",
    "stationVertices.show(truncate=False)"
   ]
  },
  {
   "cell_type": "markdown",
   "metadata": {},
   "source": [
    "### Prepare Edges"
   ]
  },
  {
   "cell_type": "code",
   "execution_count": null,
   "metadata": {},
   "outputs": [],
   "source": [
    "tripEdges = tripData\\\n",
    "    .withColumnRenamed(\"start_station_id\", \"src\")\\\n",
    "    .withColumnRenamed(\"end_station_id\", \"dst\")\\\n",
    "    .select('src', 'dst', 'duration', 'bike_id')\n",
    "tripEdges.show(truncate=False)"
   ]
  },
  {
   "cell_type": "markdown",
   "metadata": {},
   "source": [
    "### Initialize the GraphFrame"
   ]
  },
  {
   "cell_type": "code",
   "execution_count": 62,
   "metadata": {},
   "outputs": [],
   "source": [
    "stationGraph = GraphFrame(stationVertices, tripEdges)"
   ]
  },
  {
   "cell_type": "markdown",
   "metadata": {},
   "source": [
    "### Simple Graph computations"
   ]
  },
  {
   "cell_type": "code",
   "execution_count": 59,
   "metadata": {},
   "outputs": [
    {
     "name": "stdout",
     "output_type": "stream",
     "text": [
      "Total Number of Stations: 70\n",
      "Total Number of Trips in Graph: 669959\n",
      "Total Number of Trips in Original Data: 669959\n"
     ]
    }
   ],
   "source": [
    "print(\"Total Number of Stations: \" + str(stationGraph.vertices.count()))\n",
    "print(\"Total Number of Trips in Graph: \" + str(stationGraph.edges.count()))\n",
    "print(\"Total Number of Trips in Original Data: \" + str(tripData.count()))"
   ]
  },
  {
   "cell_type": "markdown",
   "metadata": {},
   "source": [
    "### Most popular trips"
   ]
  },
  {
   "cell_type": "code",
   "execution_count": 54,
   "metadata": {},
   "outputs": [
    {
     "name": "stdout",
     "output_type": "stream",
     "text": [
      "+----------------------------------------+----------------------------------------+-----+\n",
      "|src                                     |dst                                     |count|\n",
      "+----------------------------------------+----------------------------------------+-----+\n",
      "|San Francisco Caltrain 2 (330 Townsend) |Townsend at 7th                         |6216 |\n",
      "|Harry Bridges Plaza (Ferry Building)    |Embarcadero at Sansome                  |6164 |\n",
      "|Townsend at 7th                         |San Francisco Caltrain (Townsend at 4th)|5041 |\n",
      "|2nd at Townsend                         |Harry Bridges Plaza (Ferry Building)    |4839 |\n",
      "|Harry Bridges Plaza (Ferry Building)    |2nd at Townsend                         |4357 |\n",
      "|Embarcadero at Sansome                  |Steuart at Market                       |4269 |\n",
      "|Embarcadero at Folsom                   |San Francisco Caltrain (Townsend at 4th)|3967 |\n",
      "|Steuart at Market                       |2nd at Townsend                         |3903 |\n",
      "|2nd at South Park                       |Market at Sansome                       |3627 |\n",
      "|San Francisco Caltrain (Townsend at 4th)|Harry Bridges Plaza (Ferry Building)    |3622 |\n",
      "+----------------------------------------+----------------------------------------+-----+\n",
      "\n"
     ]
    }
   ],
   "source": [
    "topTrips = stationGraph\\\n",
    "    .edges\\\n",
    "    .groupBy(\"src\", \"dst\")\\\n",
    "    .count()\\\n",
    "    .orderBy(desc(\"count\"))\\\n",
    "    .limit(10)\n",
    "\n",
    "topTrips.show(truncate=False)"
   ]
  },
  {
   "cell_type": "markdown",
   "metadata": {},
   "source": [
    "### In Degree"
   ]
  },
  {
   "cell_type": "code",
   "execution_count": 16,
   "metadata": {},
   "outputs": [
    {
     "name": "stdout",
     "output_type": "stream",
     "text": [
      "+----------------------------------------+--------+\n",
      "|id                                      |inDegree|\n",
      "+----------------------------------------+--------+\n",
      "|San Francisco Caltrain (Townsend at 4th)|63179   |\n",
      "|San Francisco Caltrain 2 (330 Townsend) |35117   |\n",
      "|Harry Bridges Plaza (Ferry Building)    |33193   |\n",
      "|Embarcadero at Sansome                  |30796   |\n",
      "|2nd at Townsend                         |28529   |\n",
      "+----------------------------------------+--------+\n",
      "\n"
     ]
    }
   ],
   "source": [
    "inDeg = stationGraph.inDegrees\n",
    "inDeg\\\n",
    "    .orderBy(desc(\"inDegree\"))\\\n",
    "    .limit(5)\\\n",
    "    .show(truncate=False)"
   ]
  },
  {
   "cell_type": "markdown",
   "metadata": {},
   "source": [
    "### Out Degree"
   ]
  },
  {
   "cell_type": "code",
   "execution_count": 17,
   "metadata": {},
   "outputs": [
    {
     "name": "stdout",
     "output_type": "stream",
     "text": [
      "+---------------------------------------------+---------+\n",
      "|id                                           |outDegree|\n",
      "+---------------------------------------------+---------+\n",
      "|San Francisco Caltrain (Townsend at 4th)     |49092    |\n",
      "|San Francisco Caltrain 2 (330 Townsend)      |33742    |\n",
      "|Harry Bridges Plaza (Ferry Building)         |32934    |\n",
      "|Embarcadero at Sansome                       |27713    |\n",
      "|Temporary Transbay Terminal (Howard at Beale)|26089    |\n",
      "+---------------------------------------------+---------+\n",
      "\n"
     ]
    }
   ],
   "source": [
    "outDeg = stationGraph.outDegrees\n",
    "outDeg\\\n",
    "    .orderBy(desc(\"outDegree\"))\\\n",
    "    .limit(5)\\\n",
    "    .show(truncate=False)"
   ]
  },
  {
   "cell_type": "markdown",
   "metadata": {},
   "source": [
    "### Degree Ratio"
   ]
  },
  {
   "cell_type": "code",
   "execution_count": 18,
   "metadata": {},
   "outputs": [
    {
     "data": {
      "text/plain": [
       "DataFrame[id: string, degreeRatio: double]"
      ]
     },
     "execution_count": 18,
     "metadata": {},
     "output_type": "execute_result"
    }
   ],
   "source": [
    "degreeRatio = inDeg\\\n",
    "    .join(outDeg, inDeg[\"id\"] == outDeg[\"id\"])\\\n",
    "    .drop(outDeg[\"id\"])\\\n",
    "    .selectExpr(\"id\", \"double(inDegree)/double(outDegree) as degreeRatio\")\n",
    "\n",
    "degreeRatio.cache()"
   ]
  },
  {
   "cell_type": "markdown",
   "metadata": {},
   "source": [
    "#### Descending"
   ]
  },
  {
   "cell_type": "code",
   "execution_count": 19,
   "metadata": {},
   "outputs": [
    {
     "name": "stdout",
     "output_type": "stream",
     "text": [
      "+----------------------------------------+------------------+\n",
      "|id                                      |degreeRatio       |\n",
      "+----------------------------------------+------------------+\n",
      "|Redwood City Medical Center             |1.4533762057877813|\n",
      "|Redwood City Public Library             |1.300469483568075 |\n",
      "|San Francisco Caltrain (Townsend at 4th)|1.286951030717836 |\n",
      "|Washington at Kearny                    |1.2723671947809878|\n",
      "|MLK Library                             |1.233038348082596 |\n",
      "|SJSU 4th at San Carlos                  |1.2282051282051283|\n",
      "|San Mateo County Center                 |1.2195121951219512|\n",
      "|Broadway at Main                        |1.208955223880597 |\n",
      "|University and Emerson                  |1.2056878306878307|\n",
      "|Washington at Kearney                   |1.203804347826087 |\n",
      "+----------------------------------------+------------------+\n",
      "\n"
     ]
    }
   ],
   "source": [
    "degreeRatio\\\n",
    "    .orderBy(desc(\"degreeRatio\"))\\\n",
    "    .limit(10)\\\n",
    "    .show(truncate=False)"
   ]
  },
  {
   "cell_type": "markdown",
   "metadata": {},
   "source": [
    "#### Ascending"
   ]
  },
  {
   "cell_type": "code",
   "execution_count": 20,
   "metadata": {},
   "outputs": [
    {
     "name": "stdout",
     "output_type": "stream",
     "text": [
      "+-------------------------------+------------------+\n",
      "|id                             |degreeRatio       |\n",
      "+-------------------------------+------------------+\n",
      "|Grant Avenue at Columbus Avenue|0.564700110388814 |\n",
      "|2nd at Folsom                  |0.6056461731493099|\n",
      "|Powell at Post (Union Square)  |0.6887003841229193|\n",
      "|San Jose City Hall             |0.6928541579607188|\n",
      "|San Francisco City Hall        |0.7497243660418964|\n",
      "|Beale at Market                |0.774906104780699 |\n",
      "|Redwood City Caltrain Station  |0.8075933075933076|\n",
      "|Golden Gate at Polk            |0.8153091800599291|\n",
      "|Evelyn Park and Ride           |0.8218356328734253|\n",
      "|Ryland Park                    |0.8248425872925015|\n",
      "+-------------------------------+------------------+\n",
      "\n"
     ]
    }
   ],
   "source": [
    "degreeRatio\\\n",
    "    .orderBy(asc(\"degreeRatio\"))\\\n",
    "    .limit(10)\\\n",
    "    .show(truncate=False)"
   ]
  },
  {
   "cell_type": "markdown",
   "metadata": {},
   "source": [
    "### Shortest Paths"
   ]
  },
  {
   "cell_type": "code",
   "execution_count": 65,
   "metadata": {},
   "outputs": [
    {
     "name": "stdout",
     "output_type": "stream",
     "text": [
      "+---+--------------------+------------------+-------------------+----------+-------------+-----------------+---------+\n",
      "| id|                name|               lat|               long|dock_count|         city|installation_date|distances|\n",
      "+---+--------------------+------------------+-------------------+----------+-------------+-----------------+---------+\n",
      "| 25|Stanford in Redwo...|          37.48537|-122.20328799999999|        15| Redwood City|        8/12/2013|[10 -> 3]|\n",
      "| 51|Embarcadero at Fo...|37.791464000000005|        -122.391034|        19|San Francisco|        8/20/2013|[10 -> 2]|\n",
      "|  7|Paseo de San Antonio|         37.333798|-121.88694299999999|        15|     San Jose|         8/7/2013|[10 -> 1]|\n",
      "| 54|Embarcadero at Br...|         37.787152|-122.38801299999999|        15|San Francisco|        8/20/2013|[10 -> 2]|\n",
      "| 82|Broadway St at Ba...|         37.798541|-122.40086200000002|        15|San Francisco|        1/22/2014|[10 -> 2]|\n",
      "| 11|         MLK Library|         37.335885|-121.88566000000002|        19|     San Jose|         8/6/2013|[10 -> 1]|\n",
      "| 29|San Antonio Caltr...|37.406940000000006|-122.10675800000001|        23|Mountain View|        8/15/2013|[10 -> 2]|\n",
      "| 69|San Francisco Cal...|           37.7766|-122.39546999999999|        23|San Francisco|        8/23/2013|[10 -> 2]|\n",
      "| 42|    Davis at Jackson|          37.79728|        -122.398436|        15|San Francisco|        8/19/2013|[10 -> 2]|\n",
      "| 73|Grant Avenue at C...|         37.798522|-122.40724499999999|        15|San Francisco|        8/21/2013|[10 -> 2]|\n",
      "| 64|   2nd at South Park|         37.782259|        -122.392738|        15|San Francisco|        8/22/2013|[10 -> 2]|\n",
      "| 58|San Francisco Cit...|          37.77865|-122.41823500000001|        19|San Francisco|        8/21/2013|[10 -> 1]|\n",
      "|  3|San Jose Civic Ce...|         37.330698|        -121.888979|        15|     San Jose|         8/5/2013|[10 -> 1]|\n",
      "| 30|Evelyn Park and Ride|37.390277000000005|        -122.066553|        15|Mountain View|        8/16/2013|[10 -> 2]|\n",
      "| 34|Palo Alto Caltrai...|         37.443988|        -122.164759|        23|    Palo Alto|        8/14/2013|[10 -> 3]|\n",
      "| 59| Golden Gate at Polk|         37.781332|        -122.418603|        23|San Francisco|        8/21/2013|[10 -> 2]|\n",
      "| 33|Rengstorff Avenue...|37.400240999999994|        -122.099076|        15|Mountain View|        8/16/2013|[10 -> 2]|\n",
      "|  8| San Salvador at 1st|         37.330165|-121.88583100000001|        15|     San Jose|         8/5/2013|[10 -> 1]|\n",
      "| 48|Embarcadero at Va...|         37.799953|        -122.398525|        15|San Francisco|        8/19/2013|[10 -> 2]|\n",
      "| 22|Redwood City Calt...|37.486078000000006|-122.23208899999999|        25| Redwood City|        8/15/2013|[10 -> 3]|\n",
      "| 28|Mountain View Cal...|37.394358000000004|-122.07671299999998|        23|Mountain View|        8/15/2013|[10 -> 2]|\n",
      "| 16|SJSU - San Salvad...|37.333954999999996|        -121.877349|        15|     San Jose|         8/7/2013|[10 -> 1]|\n",
      "| 35|University and Em...|         37.444521|-122.16309299999999|        11|    Palo Alto|        8/15/2013|[10 -> 3]|\n",
      "| 67|      Market at 10th|37.776619000000004|-122.41738500000001|        27|San Francisco|        8/23/2013|[10 -> 2]|\n",
      "| 84|         Ryland Park|         37.342725|-121.89561699999999|        15|     San Jose|         4/9/2014|[10 -> 1]|\n",
      "| 71|Powell at Post (U...|         37.788446|        -122.408499|        19|San Francisco|        8/23/2013|[10 -> 2]|\n",
      "| 47|     Post at Kearney|         37.788975|        -122.403452|        19|San Francisco|        8/19/2013|[10 -> 2]|\n",
      "| 24|Redwood City Publ...|         37.484219|        -122.227424|        15| Redwood City|        8/12/2013|[10 -> 3]|\n",
      "|  9|           Japantown|         37.348742|-121.89471499999999|        15|     San Jose|         8/5/2013|[10 -> 1]|\n",
      "| 32|Castro Street and...|         37.385956|        -122.083678|        11|Mountain View|       12/31/2013|[10 -> 2]|\n",
      "|  5|    Adobe on Almaden|         37.331415|          -121.8932|        19|     San Jose|         8/5/2013|[10 -> 1]|\n",
      "| 31|San Antonio Shopp...|         37.400443|-122.10833799999999|        15|Mountain View|       12/31/2013|[10 -> 3]|\n",
      "| 56|     Beale at Market|         37.792251|-122.39708600000002|        19|San Francisco|        8/20/2013|[10 -> 2]|\n",
      "| 70|San Francisco Cal...|         37.776617|-122.39526000000001|        19|San Francisco|        8/23/2013|[10 -> 2]|\n",
      "| 36|California Ave Ca...|         37.429082|-122.14280500000001|        15|    Palo Alto|        8/14/2013|[10 -> 3]|\n",
      "| 10|  San Jose City Hall|         37.337391|        -121.886995|        15|     San Jose|         8/6/2013|[10 -> 0]|\n",
      "| 37|Cowper at University|         37.448598|        -122.159504|        11|    Palo Alto|        8/14/2013|[10 -> 3]|\n",
      "| 27|Mountain View Cit...|         37.389218|        -122.081896|        15|Mountain View|        8/16/2013|[10 -> 2]|\n",
      "| 49|     Spear at Folsom|37.790302000000004|-122.39063700000001|        19|San Francisco|        8/20/2013|[10 -> 2]|\n",
      "| 61|     2nd at Townsend|         37.780526|-122.39028799999998|        27|San Francisco|        8/22/2013|[10 -> 2]|\n",
      "| 75|Mechanics Plaza (...|           37.7913|        -122.399051|        19|San Francisco|        8/25/2013|[10 -> 2]|\n",
      "| 63|       Howard at 2nd|37.786978000000005|-122.39810800000001|        19|San Francisco|        8/22/2013|[10 -> 2]|\n",
      "| 26|Redwood City Medi...|         37.487682|        -122.223492|        15| Redwood City|        8/12/2013|[10 -> 2]|\n",
      "| 65|     Townsend at 7th|37.771058000000004|        -122.402717|        15|San Francisco|        8/22/2013|[10 -> 2]|\n",
      "|  4|Santa Clara at Al...|         37.333988|        -121.894902|        11|     San Jose|         8/6/2013|[10 -> 1]|\n",
      "| 46|Washington at Kea...|         37.795425|-122.40476699999999|        15|San Francisco|        8/19/2013|[10 -> 2]|\n",
      "| 39|  Powell Street BART|37.783871000000005|        -122.408433|        19|San Francisco|        8/25/2013|[10 -> 2]|\n",
      "| 62|       2nd at Folsom|         37.785299|-122.39623600000002|        19|San Francisco|        8/22/2013|[10 -> 2]|\n",
      "| 12|SJSU 4th at San C...|         37.332808|-121.88389099999999|        19|     San Jose|         8/7/2013|[10 -> 1]|\n",
      "| 83|          Mezes Park|         37.491269|-122.23623400000001|        15| Redwood City|        2/20/2014|[10 -> 3]|\n",
      "| 77|   Market at Sansome|         37.789625|        -122.400811|        27|San Francisco|        8/25/2013|[10 -> 2]|\n",
      "|  6|    San Pedro Square|37.336721000000004|        -121.894074|        15|     San Jose|         8/7/2013|[10 -> 1]|\n",
      "| 13|       St James Park|         37.339301|-121.88993700000002|        15|     San Jose|         8/6/2013|[10 -> 1]|\n",
      "| 14|Arena Green / SAP...|         37.332692|        -121.900084|        19|     San Jose|         8/5/2013|[10 -> 1]|\n",
      "| 21|   Franklin at Maple|         37.481758|        -122.226904|        15| Redwood City|        8/12/2013|[10 -> 3]|\n",
      "| 66|South Van Ness at...|         37.774814|        -122.418954|        19|San Francisco|        8/23/2013|[10 -> 2]|\n",
      "| 72|Civic Center BART...|         37.781039|        -122.411748|        23|San Francisco|        8/23/2013|[10 -> 2]|\n",
      "| 74|   Steuart at Market|         37.794139|        -122.394434|        23|San Francisco|        8/25/2013|[10 -> 2]|\n",
      "| 60|Embarcadero at Sa...|          37.80477|-122.40323400000001|        15|San Francisco|        8/21/2013|[10 -> 2]|\n",
      "| 68|Yerba Buena Cente...|37.784878000000006|-122.40101399999999|        19|San Francisco|        8/23/2013|[10 -> 2]|\n",
      "| 23|San Mateo County ...|37.487615999999996|        -122.229951|        15| Redwood City|        8/15/2013|[10 -> 3]|\n",
      "| 41|     Clay at Battery|         37.795001|         -122.39997|        15|San Francisco|        8/19/2013|[10 -> 2]|\n",
      "| 76|       Market at 4th|         37.786305|-122.40496599999999|        19|San Francisco|        8/25/2013|[10 -> 2]|\n",
      "|  2|San Jose Diridon ...|         37.329732|-121.90178200000001|        27|     San Jose|         8/6/2013|[10 -> 1]|\n",
      "| 55|Temporary Transba...|         37.789756|-122.39464299999999|        23|San Francisco|        8/20/2013|[10 -> 2]|\n",
      "| 80|Santa Clara Count...|         37.352601|-121.90573300000001|        15|     San Jose|       12/31/2013|[10 -> 1]|\n",
      "| 50|Harry Bridges Pla...|         37.795392|        -122.394203|        23|San Francisco|        8/20/2013|[10 -> 2]|\n",
      "| 45|Commercial at Mon...|37.794230999999996|        -122.402923|        15|San Francisco|        8/19/2013|[10 -> 2]|\n",
      "| 57|       5th at Howard|37.781752000000004|-122.40512700000001|        15|San Francisco|        8/21/2013|[10 -> 2]|\n",
      "| 38|       Park at Olive|37.425683899999996|-122.13777749999998|        15|    Palo Alto|        8/14/2013|[10 -> 3]|\n",
      "+---+--------------------+------------------+-------------------+----------+-------------+-----------------+---------+\n",
      "\n"
     ]
    }
   ],
   "source": [
    "stationGraph.shortestPaths(['10']).show(200)"
   ]
  },
  {
   "cell_type": "markdown",
   "metadata": {},
   "source": [
    "## Explore the dataset"
   ]
  },
  {
   "cell_type": "code",
   "execution_count": 68,
   "metadata": {},
   "outputs": [
    {
     "name": "stdout",
     "output_type": "stream",
     "text": [
      "+-------+------------------+------------------+------------------+------------------+\n",
      "|summary|               src|               dst|          duration|           bike_id|\n",
      "+-------+------------------+------------------+------------------+------------------+\n",
      "|  count|            669959|            669959|            669959|            669959|\n",
      "|   mean| 57.85187601032302|57.837437813358726|1107.9498461846172|427.58761954089726|\n",
      "| stddev|17.112473968397165|17.200141653222516|22255.437020085345|153.45098794073212|\n",
      "|    min|                10|                10|               100|                10|\n",
      "|    max|                 9|                 9|             99993|                99|\n",
      "+-------+------------------+------------------+------------------+------------------+\n",
      "\n"
     ]
    }
   ],
   "source": [
    "tripEdges.describe().show()"
   ]
  },
  {
   "cell_type": "markdown",
   "metadata": {},
   "source": [
    "## Recommend free route"
   ]
  },
  {
   "cell_type": "markdown",
   "metadata": {},
   "source": [
    "1. Calculate average durations src->dst\n",
    "2. Filter out durations > 30min\n",
    "3. Map BFS output to the first occurance of the duration\n",
    "4. Filter the min sum of durations"
   ]
  },
  {
   "cell_type": "code",
   "execution_count": 86,
   "metadata": {},
   "outputs": [],
   "source": [
    "from pyspark.sql.functions import col, mean\n",
    "\n",
    "w = Window.partitionBy([col(\"src\"), col(\"dst\")])\n",
    "uniqueEdges = tripEdges.withColumn(\"mean_duration\", mean('duration').over(w)).select('mean_duration', 'src', 'dst').dropDuplicates()"
   ]
  },
  {
   "cell_type": "code",
   "execution_count": 87,
   "metadata": {},
   "outputs": [
    {
     "name": "stdout",
     "output_type": "stream",
     "text": [
      "+------------------+---+---+\n",
      "|     mean_duration|src|dst|\n",
      "+------------------+---+---+\n",
      "| 749.3030303030303|  5| 10|\n",
      "|2443.9397590361446| 50| 46|\n",
      "|340.36209335219235| 55| 41|\n",
      "|1012.9285714285714| 58| 62|\n",
      "|1558.3411764705882| 65| 73|\n",
      "| 823.8023076923076| 69| 77|\n",
      "| 803.2891832229581| 71| 77|\n",
      "| 692.3253588516747| 72| 66|\n",
      "| 901.3134328358209| 73| 68|\n",
      "|3666.3333333333335| 28| 37|\n",
      "|            3006.0| 37| 24|\n",
      "|1189.9722222222222| 56| 74|\n",
      "|440.93218720152817| 68| 70|\n",
      "| 4867.768518518518| 70| 69|\n",
      "|1618.0833333333333| 76| 73|\n",
      "| 610.9076923076923| 10|  5|\n",
      "|1047.0588235294117| 11| 14|\n",
      "|1651.1653543307086| 51| 56|\n",
      "| 1550.764705882353| 54| 58|\n",
      "| 829.9788732394367| 55| 73|\n",
      "+------------------+---+---+\n",
      "only showing top 20 rows\n",
      "\n"
     ]
    },
    {
     "data": {
      "text/plain": [
       "DataFrame[mean_duration: double, src: string, dst: string]"
      ]
     },
     "execution_count": 87,
     "metadata": {},
     "output_type": "execute_result"
    }
   ],
   "source": [
    "uniqueEdges.show()\n",
    "uniqueEdges.cache()"
   ]
  },
  {
   "cell_type": "code",
   "execution_count": 88,
   "metadata": {},
   "outputs": [],
   "source": [
    "graph = GraphFrame(stationVertices, uniqueEdges)"
   ]
  },
  {
   "cell_type": "code",
   "execution_count": 89,
   "metadata": {},
   "outputs": [],
   "source": [
    "bfs = graph.bfs(fromExpr='id=10', toExpr='id=66')"
   ]
  },
  {
   "cell_type": "code",
   "execution_count": 90,
   "metadata": {},
   "outputs": [],
   "source": [
    "bfs = bfs.cache()"
   ]
  },
  {
   "cell_type": "code",
   "execution_count": 120,
   "metadata": {},
   "outputs": [
    {
     "data": {
      "text/plain": [
       "['e0.mean_duration', 'e1.mean_duration', 'e2.mean_duration']"
      ]
     },
     "execution_count": 120,
     "metadata": {},
     "output_type": "execute_result"
    }
   ],
   "source": [
    "ecols = [col + \".mean_duration\" for col in bfs.columns if col.startswith(\"e\")]\n",
    "ecols"
   ]
  },
  {
   "cell_type": "code",
   "execution_count": 123,
   "metadata": {},
   "outputs": [
    {
     "name": "stdout",
     "output_type": "stream",
     "text": [
      "+--------------------+--------------------+--------------------+-----------------+--------------------+--------------------+--------------------+------------------+\n",
      "|                from|                  e0|                  v1|               e1|                  v2|                  e2|                  to|             total|\n",
      "+--------------------+--------------------+--------------------+-----------------+--------------------+--------------------+--------------------+------------------+\n",
      "|[10, San Jose Cit...|[470.833333333333...|[7, Paseo de San ...|  [7798.0, 7, 76]|[76, Market at 4t...|[1063.47669172932...|[66, South Van Ne...| 9332.310025062658|\n",
      "|[10, San Jose Cit...|[679.779661016949...|[3, San Jose Civi...| [12088.0, 3, 72]|[72, Civic Center...|[692.325358851674...|[66, South Van Ne...|13460.105019868624|\n",
      "|[10, San Jose Cit...|[904.014084507042...|[11, MLK Library,...|[29942.0, 11, 76]|[76, Market at 4t...|[1063.47669172932...|[66, South Van Ne...|31909.490776236365|\n",
      "|[10, San Jose Cit...|[1798.43243243243...|[4, Santa Clara a...| [41312.0, 4, 70]|[70, San Francisc...|[1109.82777036048...|[66, South Van Ne...| 44220.26020279292|\n",
      "+--------------------+--------------------+--------------------+-----------------+--------------------+--------------------+--------------------+------------------+\n",
      "\n"
     ]
    }
   ],
   "source": [
    "from functools import reduce\n",
    "from operator import add\n",
    "bfs.withColumn('total',reduce(add, [F.col(x) for x in ecols])).orderBy('total').show()"
   ]
  },
  {
   "cell_type": "code",
   "execution_count": 48,
   "metadata": {},
   "outputs": [],
   "source": [
    "spark.stop()"
   ]
  }
 ],
 "metadata": {
  "kernelspec": {
   "display_name": "Python 3",
   "language": "python",
   "name": "python3"
  },
  "language_info": {
   "codemirror_mode": {
    "name": "ipython",
    "version": 3
   },
   "file_extension": ".py",
   "mimetype": "text/x-python",
   "name": "python",
   "nbconvert_exporter": "python",
   "pygments_lexer": "ipython3",
   "version": "3.7.3"
  }
 },
 "nbformat": 4,
 "nbformat_minor": 4
}
